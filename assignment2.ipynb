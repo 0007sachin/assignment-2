{
 "cells": [
  {
   "cell_type": "markdown",
   "metadata": {},
   "source": [
    "# Write a Python Program to implement your own myreduce() function which works exactly like Python's built-in function reduce()"
   ]
  },
  {
   "cell_type": "code",
   "execution_count": 9,
   "metadata": {},
   "outputs": [
    {
     "name": "stdout",
     "output_type": "stream",
     "text": [
      "User defined my_reduce function: 22\n"
     ]
    }
   ],
   "source": [
    "def my_reduce(myfun,seq):\n",
    "    result=seq[0]\n",
    "    for i in seq[1:]:\n",
    "        result=myfun(result,i)\n",
    "    return result\n",
    "\n",
    "def myfun(a,b):\n",
    "    return a+b\n",
    "\n",
    "l=[1,2,4,6,9]\n",
    "print(\"User defined my_reduce function:\",my_reduce(myfun,l))\n"
   ]
  },
  {
   "cell_type": "markdown",
   "metadata": {},
   "source": [
    "# Write a Python program to implement your own myfilter() function which works exactly like Python's built-in function filter()\n"
   ]
  },
  {
   "cell_type": "code",
   "execution_count": 15,
   "metadata": {},
   "outputs": [
    {
     "name": "stdout",
     "output_type": "stream",
     "text": [
      "By creating our own filter function to check even no in list: [68, 94, 48, 98]\n"
     ]
    }
   ],
   "source": [
    "# creating own filter function\n",
    "def myfilter(myfunc,seq):\n",
    "    lst=[]\n",
    "    for i in seq:\n",
    "        if myfunc(i):\n",
    "            lst.append(i)\n",
    "    return lst\n",
    "\n",
    "#testing my_filter function for finding even no. in the list\n",
    "def myfunc(x):\n",
    "     if x % 2 == 0:\n",
    "        return True\n",
    "    \n",
    "lst=[19,63,68,94,48,87,98,35]    \n",
    "print(\"By creating our own filter function to check even no in list:\",myfilter(myfunc,lst))\n"
   ]
  },
  {
   "cell_type": "markdown",
   "metadata": {},
   "source": [
    "# Implement List comprehensions to produce the following lists.\n",
    "1.['A', 'C', 'A', 'D', 'G', 'I', ’L’, ‘ D’]\n",
    "2. ['x', 'xx', 'xxx', 'xxxx', 'y', 'yy', 'yyy', 'yyyy', 'z', 'zz', 'zzz', 'zzzz']\n",
    "3. ['x', 'y', 'z', 'xx', 'yy', 'zz', 'xxx', 'yyy', 'zzz', 'xxxx', 'yyyy', 'zzzz']\n",
    "4. [[2], [3], [4], [3], [4], [5], [4], [5], [6]]\n",
    "5. [[2, 3, 4, 5], [3, 4, 5, 6], [4, 5, 6, 7], [5, 6, 7, 8]]\n",
    "6. [(1, 1), (2, 1), (3, 1), (1, 2), (2, 2), (3, 2), (1, 3), (2, 3), (3, 3)]\n",
    "\n"
   ]
  },
  {
   "cell_type": "code",
   "execution_count": 17,
   "metadata": {},
   "outputs": [
    {
     "name": "stdout",
     "output_type": "stream",
     "text": [
      "i) ACADGILD:--->  ['A', 'C', 'A', 'D', 'G', 'I', 'L', 'D']\n",
      "ii) ['x','y','z']:--->  ['x', 'xx', 'xxx', 'y', 'yy', 'yyy', 'z', 'zz', 'zzz']\n",
      "iii) ['x','y','z']:--->  [['x', 'y', 'z'], ['xx', 'yy', 'zz'], ['xxx', 'yyy', 'zzz'], ['xxxx', 'yyyy', 'zzzz']]\n",
      "iv) [2,3,4]:--->  [[3], [4], [5], [4], [5], [6], [5], [6], [7]]\n",
      "v) [2,3,4,5]:--->  [[3, 4, 5, 6], [4, 5, 6, 7], [5, 6, 7, 8]]\n",
      "vi) [1,2,3]:--->  [(1, 1), (1, 2), (1, 3), (2, 1), (2, 2), (2, 3), (3, 1), (3, 2), (3, 3)]\n"
     ]
    }
   ],
   "source": [
    "#list comprehension\n",
    "\n",
    "word = \"ACADGILD\"\n",
    "required_output=[letters for letters in word]\n",
    "print(\"i) ACADGILD:--->\"+ \"  \" + str(required_output))\n",
    "\n",
    "###############\n",
    "\n",
    "input_lst='xyz'\n",
    "Required_list=[item*num for item in input_lst for num in range(1,4)]\n",
    "print(\"ii) ['x','y','z']:--->\" + \"  \" +  str(Required_list))\n",
    "\n",
    "\n",
    "##############\n",
    "\n",
    "lst='xyz'\n",
    "Required_list=[[item*num for item in lst] for num in range(1,5)]\n",
    "print(\"iii) ['x','y','z']:--->\" + \"  \" +  str(Required_list))\n",
    "\n",
    "\n",
    "#############\n",
    "\n",
    "lst=[2,3,4]\n",
    "Required_list=[[item+num ]for item in lst  for num in range(1,4)]\n",
    "print(\"iv) [2,3,4]:--->\" + \"  \" +  str(Required_list))\n",
    "\n",
    "\n",
    "\n",
    "############\n",
    "\n",
    "lst=[2,3,4,5]\n",
    "Required_list=[[item+num for item in lst]for num in range(1,4)]\n",
    "print(\"v) [2,3,4,5]:--->\" + \"  \" +  str(Required_list))\n",
    "\n",
    "#############\n",
    "\n",
    "lst=[1,2,3]\n",
    "Required_list=[(item,num) for item in lst for num in range(1,4)]\n",
    "print(\"vi) [1,2,3]:--->\" + \"  \" +  str(Required_list))\n"
   ]
  },
  {
   "cell_type": "markdown",
   "metadata": {},
   "source": [
    "# Implement a function longestWord() that takes a list of words and returns the longest one."
   ]
  },
  {
   "cell_type": "code",
   "execution_count": 18,
   "metadata": {},
   "outputs": [
    {
     "name": "stdout",
     "output_type": "stream",
     "text": [
      "longest word in given list: affordable ai\n"
     ]
    }
   ],
   "source": [
    "from functools import reduce\n",
    "lst=[\"ineuron\",\"is\",\"launching\",\"affordable ai\"]\n",
    "\n",
    "def longestword(lst):\n",
    "    return reduce((lambda x,y:y if len(y)>len(x) else x),lst)\n",
    "\n",
    "print(\"longest word in given list:\",longestword(lst))\n"
   ]
  },
  {
   "cell_type": "markdown",
   "metadata": {},
   "source": [
    "# Write a Python Program(with class concepts) to find the area of the triangle using the below formula.\n",
    "area = (s*(s-a)*(s-b)*(s-c)) ** 0.5\n",
    "Function to take the length of the sides of triangle from user should be defined in the parent class and function to calculate the area should be defined in subclass.\n"
   ]
  },
  {
   "cell_type": "code",
   "execution_count": 21,
   "metadata": {},
   "outputs": [
    {
     "name": "stdout",
     "output_type": "stream",
     "text": [
      "enter the side of a:12\n",
      "enter the side of b:12\n",
      "enter the side of c:12\n",
      "Area of traingle is : 62.353829072479584\n"
     ]
    }
   ],
   "source": [
    "class Triangle:\n",
    "    def __init__(self):\n",
    "        self.a=float(input(\"enter the side of a:\"))\n",
    "        self.b=float(input(\"enter the side of b:\"))\n",
    "        self.c=float(input(\"enter the side of c:\"))\n",
    "class Area(Triangle):\n",
    "    def area(self):\n",
    "        s=(self.a+self.b+self.c)/2\n",
    "        area = (s * (s - self.a)*(s - self.b)*(s - self.c)) ** 0.5\n",
    "        print(\"Area of traingle is :\",area)\n",
    "        \n",
    "a=Area()\n",
    "a.area()\n",
    "    "
   ]
  },
  {
   "cell_type": "markdown",
   "metadata": {},
   "source": [
    "# Write a function filter_long_words() that takes a list of words and an integer n and returns the list of words that are longer than n."
   ]
  },
  {
   "cell_type": "code",
   "execution_count": 23,
   "metadata": {},
   "outputs": [
    {
     "name": "stdout",
     "output_type": "stream",
     "text": [
      "Longest words are: ['ramkumar', 'studies', 'datascience']\n"
     ]
    }
   ],
   "source": [
    "def longest_word(words,n):\n",
    "    l=[]\n",
    "    for i in words:\n",
    "        if len(i) > n:\n",
    "            l.append(i)\n",
    "    print(\"Longest words are:\",l)      \n",
    "    \n",
    "lst=[\"ramkumar\",'is','a','good','boy','and','studies','datascience']            \n",
    "longest_word(lst,5)            "
   ]
  },
  {
   "cell_type": "markdown",
   "metadata": {},
   "source": [
    "# Write a Python program using function concept that maps list of words into a list of integers representing the lengths of the corresponding words.\n",
    "Hint: If a list [ ab,cde,erty] is passed on to the python function output should come as [2,3,4] Here 2,3 and 4 are the lengths of the words in the list."
   ]
  },
  {
   "cell_type": "code",
   "execution_count": 25,
   "metadata": {},
   "outputs": [
    {
     "name": "stdout",
     "output_type": "stream",
     "text": [
      "[2, 3, 4]\n"
     ]
    }
   ],
   "source": [
    "def word_len(lst):\n",
    "    return len(lst)\n",
    "\n",
    "\n",
    "\n",
    "lst = ['ab', 'cde', 'erty']\n",
    "result =list(map(word_len,lst))\n",
    "print(result)             \n"
   ]
  },
  {
   "cell_type": "markdown",
   "metadata": {},
   "source": [
    "# Write a Python function which takes a character (i.e. a string of length 1) and returns True if it is a vowel, False otherwise."
   ]
  },
  {
   "cell_type": "code",
   "execution_count": 26,
   "metadata": {},
   "outputs": [
    {
     "name": "stdout",
     "output_type": "stream",
     "text": [
      "enter the letter:a\n"
     ]
    },
    {
     "data": {
      "text/plain": [
       "True"
      ]
     },
     "execution_count": 26,
     "metadata": {},
     "output_type": "execute_result"
    }
   ],
   "source": [
    "def vowel_check(char):\n",
    "    if char==\"a\" or char==\"e\" or char==\"i\" or char==\"o\" or char==\"u\":\n",
    "        return True\n",
    "    else:\n",
    "        return False\n",
    "    \n",
    "vowel_check(input(\"enter the letter:\"))    "
   ]
  },
  {
   "cell_type": "code",
   "execution_count": null,
   "metadata": {},
   "outputs": [],
   "source": []
  }
 ],
 "metadata": {
  "kernelspec": {
   "display_name": "Python 3",
   "language": "python",
   "name": "python3"
  },
  "language_info": {
   "codemirror_mode": {
    "name": "ipython",
    "version": 3
   },
   "file_extension": ".py",
   "mimetype": "text/x-python",
   "name": "python",
   "nbconvert_exporter": "python",
   "pygments_lexer": "ipython3",
   "version": "3.7.4"
  }
 },
 "nbformat": 4,
 "nbformat_minor": 2
}
